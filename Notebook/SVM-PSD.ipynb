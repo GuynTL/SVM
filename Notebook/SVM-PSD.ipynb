{
 "cells": [
  {
   "cell_type": "markdown",
   "metadata": {},
   "source": [
    "# Pulse Shape Discrimination using Support Vector Machines (SVM)\n",
    "## Brief Background and Introduction\n",
    "Pulse Shape Discrimination is a problem where one tries to distinguish pulses based on a measured signal. In this case, we are trying to distinguish between neutron and gamma rays from a signal that contains both of them. If this were to be implemented into a machine learning problem, the optimal approach would be to use pure neutron rays and pure gamma rays as a training set. However, as far as my knowledge goes, it is not possible to obtain these pure signals. Therefore, we rely on a theoretical assumption that can be used to identify the neutron and gamma rays. This assumption has a threshold in which the higher the threshold, the more distinguishable the two rays are. Therefore we will use this assumption with a high threshold as our training set, and the same assumption with a lower threshold as our validation set.\n",
    "\n",
    "Now we have a classification problem involving just 2 classes, neutron and gamma rays. An approach would be to use a support vector machine that can separate these 2 classes using a hyperplane. The hyperplane parameters are learned throughout the training process.\n",
    "\n",
    "## Downloading the data\n",
    "The data is a text file with each line consisting of a pulse that has 240 elements. There are exactly 6 pieces of data, 3 of which are neutron pulses and the other 3 are gamma pulses. They are labelled with respect to the type of pulse and the certainty of the pulse. For example, \"forML_gamma_SUPERTIGHT.txt\" means that this data contains gamma pulses which were obtained using a high threshold. The labels \"SUPERTIGHT\", \"TIGHT\" and \"LOOSE correspond to high, medium and low thresholds respectively.\n",
    "\n",
    "You can download the necessary data in a shared Dropbox link: https://www.dropbox.com/sh/sklqbrd7gvq6azz/AABCExrGTyESctHbs1eQO4m6a?dl=1.\n",
    "<br/>Put these data in the same working directory as this notebook. There is a code below you can run to obtain it directly. Just click the \"Download Pulse Data\" button to download.\n",
    "\n",
    "## Additional Notes\n",
    "I am going to be using ipywidgets to make this notebook more interactive"
   ]
  },
  {
   "cell_type": "code",
   "execution_count": 1,
   "metadata": {
    "scrolled": false
   },
   "outputs": [],
   "source": [
    "import ipywidgets as widgets\n",
    "from ipywidgets import interact, interactive, fixed, interact_manual\n",
    "from IPython.display import display"
   ]
  },
  {
   "cell_type": "markdown",
   "metadata": {},
   "source": [
    "And disable autoscrolling for better output observation"
   ]
  },
  {
   "cell_type": "code",
   "execution_count": 2,
   "metadata": {},
   "outputs": [
    {
     "data": {
      "application/javascript": [
       "IPython.OutputArea.prototype._should_scroll = function(lines) {\n",
       "    return false;\n",
       "}\n"
      ],
      "text/plain": [
       "<IPython.core.display.Javascript object>"
      ]
     },
     "metadata": {},
     "output_type": "display_data"
    }
   ],
   "source": [
    "%%javascript\n",
    "IPython.OutputArea.prototype._should_scroll = function(lines) {\n",
    "    return false;\n",
    "}"
   ]
  },
  {
   "cell_type": "code",
   "execution_count": 3,
   "metadata": {
    "scrolled": false
   },
   "outputs": [
    {
     "data": {
      "application/vnd.jupyter.widget-view+json": {
       "model_id": "1633bfcb48b64a1f951990b8172ce820",
       "version_major": 2,
       "version_minor": 0
      },
      "text/plain": [
       "Button(description='Download Pulse Data', style=ButtonStyle())"
      ]
     },
     "metadata": {},
     "output_type": "display_data"
    },
    {
     "name": "stdout",
     "output_type": "stream",
     "text": [
      "Importing necessary modules for downloading and extracting data...\n",
      "Extracting data into current working directory...\n",
      "Data downloaded and extracted to current working directory!\n"
     ]
    }
   ],
   "source": [
    "button = widgets.Button(\n",
    "    description='Download Pulse Data',\n",
    ")\n",
    "display(button)\n",
    "@button.on_click\n",
    "\n",
    "def dl_data(*args):\n",
    "    print(\"Importing necessary modules for downloading and extracting data...\")\n",
    "    import requests\n",
    "    import zipfile\n",
    "    import io\n",
    "\n",
    "    r = requests.get(\"https://www.dropbox.com/sh/sklqbrd7gvq6azz/AABCExrGTyESctHbs1eQO4m6a?dl=1\", stream=True)\n",
    "    if r.status_code == requests.codes.ok:\n",
    "        z = zipfile.ZipFile(io.BytesIO(r.content))\n",
    "    print(\"Extracting data into current working directory...\")\n",
    "    z.extractall()\n",
    "    print(\"Data downloaded and extracted to current working directory!\")"
   ]
  },
  {
   "cell_type": "markdown",
   "metadata": {},
   "source": [
    "Lets double check that the data files are indeed in the current working directory"
   ]
  },
  {
   "cell_type": "code",
   "execution_count": 4,
   "metadata": {
    "scrolled": false
   },
   "outputs": [
    {
     "name": "stdout",
     "output_type": "stream",
     "text": [
      " Volume in drive C is OS\n",
      " Volume Serial Number is E813-1724\n",
      "\n",
      " Directory of C:\\Users\\alex2\\Dropbox\\PSD\\fromAlex\n",
      "\n",
      "27/11/2018  11:03 PM    <DIR>          .\n",
      "27/11/2018  11:03 PM    <DIR>          ..\n",
      "26/11/2018  04:49 AM    <DIR>          .ipynb_checkpoints\n",
      "26/11/2018  02:49 AM    <DIR>          __pycache__\n",
      "20/11/2018  10:33 PM    <DIR>          data\n",
      "27/11/2018  03:34 AM             4,453 data_processing.py\n",
      "27/11/2018  11:04 PM        51,141,242 forML_gamma_LOOSE.txt\n",
      "27/11/2018  11:04 PM        12,091,938 forML_gamma_SUPERTIGHT.txt\n",
      "27/11/2018  11:04 PM        33,065,150 forML_gamma_TIGHT.txt\n",
      "27/11/2018  11:04 PM        29,551,241 forML_neutron_LOOSE.txt\n",
      "27/11/2018  11:04 PM         9,821,910 forML_neutron_SUPERTIGHT.txt\n",
      "27/11/2018  11:04 PM        18,758,073 forML_neutron_TIGHT.txt\n",
      "24/11/2018  10:23 PM             1,326 LinearSVM Details.txt\n",
      "27/11/2018  03:45 AM             6,919 main.py\n",
      "24/11/2018  09:26 PM               326 model.py\n",
      "24/11/2018  10:20 PM             6,647 nndetails.py\n",
      "26/11/2018  03:02 AM               789 temp.py\n",
      "27/11/2018  11:03 PM            23,933 Test.ipynb\n",
      "              13 File(s)    154,473,947 bytes\n",
      "               5 Dir(s)  116,105,957,376 bytes free\n"
     ]
    }
   ],
   "source": [
    "ls"
   ]
  },
  {
   "cell_type": "markdown",
   "metadata": {},
   "source": [
    "Importing all necessary modules"
   ]
  },
  {
   "cell_type": "code",
   "execution_count": 5,
   "metadata": {
    "scrolled": false
   },
   "outputs": [],
   "source": [
    "import argparse\n",
    "import numpy as np\n",
    "import time\n",
    "import matplotlib.pyplot as plt\n",
    "import matplotlib as mpl\n",
    "import seaborn as sns\n",
    "import torch\n",
    "import torch.nn as nn\n",
    "import torch.optim as optim\n",
    "from torch.utils.data import Dataset, DataLoader"
   ]
  },
  {
   "cell_type": "markdown",
   "metadata": {},
   "source": [
    "Details widgets"
   ]
  },
  {
   "cell_type": "code",
   "execution_count": 6,
   "metadata": {
    "scrolled": false
   },
   "outputs": [],
   "source": [
    "style = {'description_width': '60%'}\n",
    "w_tnum = widgets.IntText(500, description='Training Dataset Size', style=style)\n",
    "w_tbs = widgets.IntText(10, description='Training Batch Size', style=style)\n",
    "w_vnum = widgets.IntText(100, description='Validation Dataset Size', style=style)\n",
    "w_vbs = widgets.IntText(1, description='Validation Batch Size', style=style)\n",
    "w_epoch = widgets.IntText(10, description='No. of Epochs', style=style)\n",
    "w_lr = widgets.FloatText(0.01, description='Learning Rate', style=style)\n",
    "w_c = widgets.FloatText(0.01, description='Regularization', style=style)"
   ]
  },
  {
   "cell_type": "markdown",
   "metadata": {},
   "source": [
    "Data Processing functions"
   ]
  },
  {
   "cell_type": "code",
   "execution_count": 7,
   "metadata": {
    "scrolled": false
   },
   "outputs": [],
   "source": [
    "class PSD_Dataset(Dataset):\n",
    "    \"\"\" A class to convert the input data into torch tensors\n",
    "        and store them in a Dataset object so that it\n",
    "        can be read later by torch's Dataloader function.\n",
    "    \"\"\"\n",
    "\n",
    "    def __init__(self, data):\n",
    "        self.data = data\n",
    "\n",
    "    def __len__(self):\n",
    "        return len(self.data['pulses'])\n",
    "\n",
    "    def __getitem__(self, index):\n",
    "        pulses = torch.FloatTensor(self.data['pulses'][index])\n",
    "        classes = torch.tensor(self.data['class'][index])\n",
    "        dataset = {'pulses': pulses, 'class': classes}\n",
    "\n",
    "        return dataset\n",
    "\n",
    "\n",
    "def read_data(filename, limit):\n",
    "    \"\"\" In the data .txt file each line is a pulse containing 240 elements.\n",
    "        This function reads the data and stores the pulses into a list then into a dictionary\n",
    "        Then by classifying neutrons into '1' and gammas into '-1',\n",
    "        the pulses are 'labelled' according to where they came from by putting another key called 'class'.\n",
    "\n",
    "        The 'limit' is the amount of pulses to be read.\n",
    "    \"\"\"\n",
    "\n",
    "    with open(filename, 'r') as file:\n",
    "        data_list = [list(map(int, lines.split())) for i, lines in enumerate(file.readlines()) if len(lines.split()) == 240 and i < limit]\n",
    "        # The above single line is equivalent to the following:\n",
    "        # data_list = []\n",
    "        # for i, lines in enumerate(file.readlines()):\n",
    "        #     if len(lines.split()) == 240 and i < limit:\n",
    "        #         data_list.append(list(map(int, lines.split)))\n",
    "\n",
    "        # Classification\n",
    "        if 'neutron' in filename:\n",
    "            data_dict = {'pulses': data_list, 'class': np.ones(len(data_list)).tolist()}\n",
    "        elif 'gamma' in filename:\n",
    "            data_dict = {'pulses': data_list, 'class': (-1 * np.ones(len(data_list))).tolist()}\n",
    "\n",
    "    return data_dict\n",
    "\n",
    "\n",
    "def Normalization(data):\n",
    "    \"\"\" Normalizes the pulse data of size N-by-240.\n",
    "        Therefore getting the mean and standard deviation by rows (axis=1).\n",
    "        Normalization: (pulse   -  mean) / standard deviation\n",
    "                 Size: ((N,240) - (N,1)) / (N,1)\n",
    "    \"\"\"\n",
    "\n",
    "    pulse = np.asarray(data)\n",
    "    pulse_mean = np.mean(pulse, axis=1)[:, None]\n",
    "    pulse_std = np.std(pulse, axis=1)[:, None]\n",
    "    data_normalized = ((pulse - pulse_mean) / pulse_std).tolist()\n",
    "    return data_normalized\n",
    "\n",
    "\n",
    "def get_data(*args):\n",
    "    \"\"\" Gets the data in .txt, reads it, normalizes the pulses, stores it into a dictionary,\n",
    "        gets converted into torch tensors and finally stored in a Dataloader\n",
    "    \"\"\"\n",
    "\n",
    "    # Gamma pulses\n",
    "    gamma_loose = 'forML_gamma_LOOSE.txt'\n",
    "    gamma_tight = 'forML_gamma_TIGHT.txt'\n",
    "    gamma_supertight = 'forML_gamma_SUPERTIGHT.txt'\n",
    "\n",
    "    # Neutron pulses\n",
    "    neutron_loose = 'forML_neutron_LOOSE.txt'\n",
    "    neutron_tight = 'forML_neutron_TIGHT.txt'\n",
    "    neutron_supertight = 'forML_neutron_SUPERTIGHT.txt'\n",
    "\n",
    "    # Training Dataset\n",
    "    training_pulses_fname = [gamma_supertight, neutron_supertight]\n",
    "    print(\"Training Database: {}\".format(training_pulses_fname))\n",
    "    training_pulses = []\n",
    "    training_class = []\n",
    "    for fname in training_pulses_fname:\n",
    "        training_pulses += read_data(fname, int(w_tnum.value / len(training_pulses_fname)))['pulses']\n",
    "        training_class += read_data(fname, int(w_tnum.value / len(training_pulses_fname)))['class']\n",
    "        training_data = {'pulses': Normalization(training_pulses), 'class': training_class}\n",
    "\n",
    "    # Validation Dataset\n",
    "    validation_pulses_fname = [gamma_loose, gamma_tight, neutron_loose, neutron_tight]\n",
    "    print(\"Validation Database: {}\".format(validation_pulses_fname))\n",
    "    validation_pulses = []\n",
    "    validation_class = []\n",
    "    for fname in validation_pulses_fname:\n",
    "        validation_pulses += read_data(fname, int(w_vnum.value / len(validation_pulses_fname)))['pulses']\n",
    "        validation_class += read_data(fname, int(w_vnum.value / len(validation_pulses_fname)))['class']\n",
    "        validation_data = {'pulses': Normalization(validation_pulses), 'class': validation_class}\n",
    "\n",
    "    # Datasets and Loaders ready for training\n",
    "    train_dataset = PSD_Dataset(training_data)\n",
    "    validation_dataset = PSD_Dataset(validation_data)\n",
    "    train_loader = DataLoader(dataset=train_dataset, batch_size=w_tbs.value, shuffle=True)\n",
    "    validation_loader = DataLoader(dataset=validation_dataset, batch_size=w_vbs.value, shuffle=False)\n",
    "\n",
    "    return train_loader, validation_loader"
   ]
  },
  {
   "cell_type": "markdown",
   "metadata": {},
   "source": [
    "Training and Validation Functions"
   ]
  },
  {
   "cell_type": "code",
   "execution_count": 8,
   "metadata": {
    "scrolled": false
   },
   "outputs": [],
   "source": [
    "def train(model, data_loader, *args):\n",
    "    \"\"\" Function for training the data. \"\"\"\n",
    "\n",
    "    optimizer = optim.SGD(model.parameters(), lr=w_lr.value)\n",
    "    model.train()\n",
    "    print(\"CNN Model: {}\".format(model.__class__.__name__))\n",
    "    print(\"Optimizer: {}\".format(optimizer.__class__.__name__))\n",
    "\n",
    "    for epoch in range(w_epoch.value):\n",
    "        sum_loss = 0\n",
    "        for i, data in enumerate(data_loader):\n",
    "            input_pulses = data['pulses']\n",
    "            classes = data['class']\n",
    "\n",
    "            # If CUDA is available\n",
    "            if torch.cuda.is_available():\n",
    "                input_pulses = input_pulses.cuda()\n",
    "                classes = data['class'].cuda()\n",
    "\n",
    "            optimizer.zero_grad()\n",
    "            output = model(input_pulses)\n",
    "\n",
    "            # Loss Function:\n",
    "            loss = torch.mean(torch.clamp(1 - output.t() * classes, min=0))  # hinge loss\n",
    "            loss += w_c.value * torch.mean(model.fc.weight ** 2)  # l2 penalty\n",
    "            loss.backward()\n",
    "\n",
    "            optimizer.step()\n",
    "            sum_loss += loss.data.cpu().numpy()\n",
    "\n",
    "        print(\"Epoch [{}/{}], Loss: {}\".format(epoch + 1, w_epoch.value, sum_loss / w_tnum.value))\n",
    "\n",
    "\n",
    "def validation(model, data_loader, *args):\n",
    "    \"\"\" Function for validating the data. \"\"\"\n",
    "\n",
    "    model.eval()\n",
    "    correct_predictions = w_vnum.value\n",
    "    actual_predictions_clamped = []\n",
    "\n",
    "    for i, data in enumerate(data_loader):\n",
    "\n",
    "        input_pulses = data['pulses']\n",
    "        classes = data['class']\n",
    "\n",
    "        # If CUDA is available\n",
    "        if torch.cuda.is_available():\n",
    "            input_pulses = input_pulses.cuda()\n",
    "            classes = data['class'].cuda()\n",
    "\n",
    "        output = model(input_pulses)\n",
    "\n",
    "        # Comparing output data and class\n",
    "        output_data = output.data.cpu().numpy()[0][0]\n",
    "        classes_data = classes.data.cpu().numpy()[0]\n",
    "\n",
    "        output_data_class = np.sign(output_data)\n",
    "        if output_data_class != classes_data:\n",
    "            correct_predictions -= 1\n",
    "\n",
    "        confidence = 1\n",
    "        if output_data > -1 and output_data < 1:\n",
    "            confidence = np.absolute(output_data)\n",
    "\n",
    "        # Restricting predictions between -1 and 1 for plotting\n",
    "        actual_predictions_clamped.append(np.clip(output_data, -1, 1))\n",
    "\n",
    "        print(\"pulse:{:>4}| class:{:>4}| predicted class:{:>4}| actual prediction:{:>+.4f}| confidence:{:>.2%}\"\n",
    "              .format(i + 1, classes_data, output_data_class, output_data, confidence))\n",
    "\n",
    "    print(\"\\nAccuracy for {} pulses: {:.2%}\".format(w_vnum.value, correct_predictions / w_vnum.value))\n",
    "\n",
    "    return np.asarray(actual_predictions_clamped)"
   ]
  },
  {
   "cell_type": "markdown",
   "metadata": {},
   "source": [
    "Function for printing details"
   ]
  },
  {
   "cell_type": "code",
   "execution_count": 9,
   "metadata": {
    "scrolled": false
   },
   "outputs": [],
   "source": [
    "def print_args(*args):\n",
    "    \"\"\" Printing of argument values for reference. \"\"\"\n",
    "\n",
    "    print(\"Training Dataset Size: {}\".format(w_tnum.value))\n",
    "    print(\"Training Batch Size: {}\".format(w_tbs.value))\n",
    "    print(\"Validation Dataset Size: {}\".format(w_vnum.value))\n",
    "    print(\"Validation Batch Size: {}\".format(w_vbs.value))\n",
    "    print(\"No. of Epochs: {}\".format(w_epoch.value))\n",
    "    print(\"Learning Rate: {}\".format(w_lr.value))\n",
    "    print(\"Regularization: {}\".format(w_c.value))"
   ]
  },
  {
   "cell_type": "markdown",
   "metadata": {},
   "source": [
    "SVM Model Function"
   ]
  },
  {
   "cell_type": "code",
   "execution_count": 10,
   "metadata": {
    "scrolled": false
   },
   "outputs": [],
   "source": [
    "class LinearSVM(nn.Module):\n",
    "    \"\"\" Support Vector Machine:\n",
    "        1 fully connected linear layer: 240 -> 1\n",
    "    \"\"\"\n",
    "\n",
    "    def __init__(self):\n",
    "        super(LinearSVM, self).__init__()\n",
    "        self.fc = nn.Linear(240, 1)\n",
    "\n",
    "    def forward(self, x):\n",
    "        h = self.fc(x)\n",
    "        return h"
   ]
  },
  {
   "cell_type": "markdown",
   "metadata": {},
   "source": [
    "Plotting Function"
   ]
  },
  {
   "cell_type": "code",
   "execution_count": 15,
   "metadata": {
    "scrolled": false
   },
   "outputs": [],
   "source": [
    "def plot(confidence_levels):\n",
    "    \"\"\" Plotting of confidence levels to see the distribution\n",
    "        of pulses that have been classified. Accurate classification\n",
    "        would result in having two sharp peaks at 1 and -1.\n",
    "    \"\"\"\n",
    "\n",
    "    f, axes = plt.subplots(1, 2, figsize=(15, 9))\n",
    "\n",
    "    # Histogram\n",
    "    sns.distplot(confidence_levels, hist=True, kde=False, norm_hist=False,\n",
    "                 bins=1000, color='darkblue',\n",
    "                 hist_kws={'edgecolor': 'black'},\n",
    "                 kde_kws={'linewidth': 2, 'bw': 0.25}, ax=axes[0])\n",
    "    axes[0].set_ylabel(\"Count\")\n",
    "    axes[0].set_xlabel(\"Confidence\")\n",
    "    axes[0].set_title(\"Neutron = 1, Gamma = -1 Histogram Plot\")\n",
    "\n",
    "    # KDE (Kernel Density Estimate)\n",
    "    sns.distplot(confidence_levels, hist=False, kde=True, norm_hist=False,\n",
    "                 bins=1000, color='darkblue',\n",
    "                 hist_kws={'edgecolor': 'black'},\n",
    "                 kde_kws={'linewidth': 2, 'bw': 0.25}, ax=axes[1])\n",
    "    axes[1].set_ylabel(\"Density\")\n",
    "    axes[1].set_xlabel(\"Confidence\")\n",
    "    axes[1].set_title(\"Neutron = 1, Gamma = -1 KDE Plot\")\n",
    "\n",
    "    plt.show()"
   ]
  },
  {
   "cell_type": "markdown",
   "metadata": {},
   "source": [
    "Executing Experiment"
   ]
  },
  {
   "cell_type": "code",
   "execution_count": 16,
   "metadata": {
    "scrolled": true
   },
   "outputs": [
    {
     "data": {
      "application/vnd.jupyter.widget-view+json": {
       "model_id": "54d03d39c7474d7cbb246fc141de5265",
       "version_major": 2,
       "version_minor": 0
      },
      "text/plain": [
       "VBox(children=(HBox(children=(IntText(value=500, description='Training Dataset Size', style=DescriptionStyle(d…"
      ]
     },
     "metadata": {},
     "output_type": "display_data"
    },
    {
     "data": {
      "application/vnd.jupyter.widget-view+json": {
       "model_id": "30b2784b097044349351ccf993b7dd11",
       "version_major": 2,
       "version_minor": 0
      },
      "text/plain": [
       "HBox(children=(IntText(value=10, description='No. of Epochs', style=DescriptionStyle(description_width='60%'))…"
      ]
     },
     "metadata": {},
     "output_type": "display_data"
    },
    {
     "data": {
      "application/vnd.jupyter.widget-view+json": {
       "model_id": "2c05d2e233fd48819ee29e124acdecce",
       "version_major": 2,
       "version_minor": 0
      },
      "text/plain": [
       "Button(description='Run Experiment', style=ButtonStyle())"
      ]
     },
     "metadata": {},
     "output_type": "display_data"
    },
    {
     "name": "stdout",
     "output_type": "stream",
     "text": [
      "Retrieving data...\n",
      "Training Database: ['forML_gamma_SUPERTIGHT.txt', 'forML_neutron_SUPERTIGHT.txt']\n",
      "Validation Database: ['forML_gamma_LOOSE.txt', 'forML_gamma_TIGHT.txt', 'forML_neutron_LOOSE.txt', 'forML_neutron_TIGHT.txt']\n",
      "Training Dataset Size: 500\n",
      "Training Batch Size: 10\n",
      "Validation Dataset Size: 100\n",
      "Validation Batch Size: 1\n",
      "No. of Epochs: 10\n",
      "Learning Rate: 0.01\n",
      "Regularization: 0.01\n",
      "Data Loaded Successfully!\n",
      "Data Processing Time: 6.654 secs\n",
      "\n",
      "Training...\n",
      "CNN Model: LinearSVM\n",
      "Optimizer: SGD\n",
      "Epoch [1/10], Loss: 0.09036334180831909\n",
      "Epoch [2/10], Loss: 0.07649824118614197\n",
      "Epoch [3/10], Loss: 0.06610952407121658\n",
      "Epoch [4/10], Loss: 0.059909355014562606\n",
      "Epoch [5/10], Loss: 0.05214657011628151\n",
      "Epoch [6/10], Loss: 0.04543270160257816\n",
      "Epoch [7/10], Loss: 0.041477473482489584\n",
      "Epoch [8/10], Loss: 0.040836519345641135\n",
      "Epoch [9/10], Loss: 0.03597712469100952\n",
      "Epoch [10/10], Loss: 0.03506824141740799\n",
      "End of training\n",
      "Training Time: 2.022 secs\n",
      "\n",
      "Validating...\n",
      "pulse:   1| class:-1.0| predicted class:-1.0| actual prediction:-1.3486| confidence:100.00%\n",
      "pulse:   2| class:-1.0| predicted class:-1.0| actual prediction:-1.0099| confidence:100.00%\n",
      "pulse:   3| class:-1.0| predicted class: 1.0| actual prediction:+1.0232| confidence:100.00%\n",
      "pulse:   4| class:-1.0| predicted class:-1.0| actual prediction:-1.6712| confidence:100.00%\n",
      "pulse:   5| class:-1.0| predicted class:-1.0| actual prediction:-0.9755| confidence:97.55%\n",
      "pulse:   6| class:-1.0| predicted class:-1.0| actual prediction:-1.1929| confidence:100.00%\n",
      "pulse:   7| class:-1.0| predicted class:-1.0| actual prediction:-1.4303| confidence:100.00%\n",
      "pulse:   8| class:-1.0| predicted class:-1.0| actual prediction:-1.3224| confidence:100.00%\n",
      "pulse:   9| class:-1.0| predicted class:-1.0| actual prediction:-0.3911| confidence:39.11%\n",
      "pulse:  10| class:-1.0| predicted class: 1.0| actual prediction:+0.3896| confidence:38.96%\n",
      "pulse:  11| class:-1.0| predicted class:-1.0| actual prediction:-1.0744| confidence:100.00%\n",
      "pulse:  12| class:-1.0| predicted class:-1.0| actual prediction:-1.3668| confidence:100.00%\n",
      "pulse:  13| class:-1.0| predicted class:-1.0| actual prediction:-1.4959| confidence:100.00%\n",
      "pulse:  14| class:-1.0| predicted class:-1.0| actual prediction:-0.1349| confidence:13.49%\n",
      "pulse:  15| class:-1.0| predicted class:-1.0| actual prediction:-0.4285| confidence:42.85%\n",
      "pulse:  16| class:-1.0| predicted class:-1.0| actual prediction:-1.2003| confidence:100.00%\n",
      "pulse:  17| class:-1.0| predicted class:-1.0| actual prediction:-1.3990| confidence:100.00%\n",
      "pulse:  18| class:-1.0| predicted class:-1.0| actual prediction:-1.1558| confidence:100.00%\n",
      "pulse:  19| class:-1.0| predicted class:-1.0| actual prediction:-1.0355| confidence:100.00%\n",
      "pulse:  20| class:-1.0| predicted class:-1.0| actual prediction:-0.3184| confidence:31.84%\n",
      "pulse:  21| class:-1.0| predicted class:-1.0| actual prediction:-1.0701| confidence:100.00%\n",
      "pulse:  22| class:-1.0| predicted class:-1.0| actual prediction:-0.4578| confidence:45.78%\n",
      "pulse:  23| class:-1.0| predicted class:-1.0| actual prediction:-0.5417| confidence:54.17%\n",
      "pulse:  24| class:-1.0| predicted class:-1.0| actual prediction:-0.7926| confidence:79.26%\n",
      "pulse:  25| class:-1.0| predicted class:-1.0| actual prediction:-0.6305| confidence:63.05%\n",
      "pulse:  26| class:-1.0| predicted class:-1.0| actual prediction:-1.3486| confidence:100.00%\n",
      "pulse:  27| class:-1.0| predicted class:-1.0| actual prediction:-1.6712| confidence:100.00%\n",
      "pulse:  28| class:-1.0| predicted class:-1.0| actual prediction:-1.1929| confidence:100.00%\n",
      "pulse:  29| class:-1.0| predicted class:-1.0| actual prediction:-1.4303| confidence:100.00%\n",
      "pulse:  30| class:-1.0| predicted class:-1.0| actual prediction:-1.3224| confidence:100.00%\n",
      "pulse:  31| class:-1.0| predicted class:-1.0| actual prediction:-0.3911| confidence:39.11%\n",
      "pulse:  32| class:-1.0| predicted class: 1.0| actual prediction:+0.3896| confidence:38.96%\n",
      "pulse:  33| class:-1.0| predicted class:-1.0| actual prediction:-1.0744| confidence:100.00%\n",
      "pulse:  34| class:-1.0| predicted class:-1.0| actual prediction:-1.3668| confidence:100.00%\n",
      "pulse:  35| class:-1.0| predicted class:-1.0| actual prediction:-1.4959| confidence:100.00%\n",
      "pulse:  36| class:-1.0| predicted class:-1.0| actual prediction:-0.1349| confidence:13.49%\n",
      "pulse:  37| class:-1.0| predicted class:-1.0| actual prediction:-0.4285| confidence:42.85%\n",
      "pulse:  38| class:-1.0| predicted class:-1.0| actual prediction:-1.2003| confidence:100.00%\n",
      "pulse:  39| class:-1.0| predicted class:-1.0| actual prediction:-1.3990| confidence:100.00%\n",
      "pulse:  40| class:-1.0| predicted class:-1.0| actual prediction:-1.1558| confidence:100.00%\n",
      "pulse:  41| class:-1.0| predicted class:-1.0| actual prediction:-0.3184| confidence:31.84%\n",
      "pulse:  42| class:-1.0| predicted class:-1.0| actual prediction:-1.0701| confidence:100.00%\n",
      "pulse:  43| class:-1.0| predicted class:-1.0| actual prediction:-0.5417| confidence:54.17%\n",
      "pulse:  44| class:-1.0| predicted class:-1.0| actual prediction:-0.7926| confidence:79.26%\n",
      "pulse:  45| class:-1.0| predicted class:-1.0| actual prediction:-0.8768| confidence:87.68%\n",
      "pulse:  46| class:-1.0| predicted class:-1.0| actual prediction:-0.8175| confidence:81.75%\n",
      "pulse:  47| class:-1.0| predicted class:-1.0| actual prediction:-0.4750| confidence:47.50%\n",
      "pulse:  48| class:-1.0| predicted class:-1.0| actual prediction:-2.3642| confidence:100.00%\n",
      "pulse:  49| class:-1.0| predicted class:-1.0| actual prediction:-0.4785| confidence:47.85%\n",
      "pulse:  50| class:-1.0| predicted class:-1.0| actual prediction:-1.8047| confidence:100.00%\n",
      "pulse:  51| class: 1.0| predicted class: 1.0| actual prediction:+1.4965| confidence:100.00%\n",
      "pulse:  52| class: 1.0| predicted class: 1.0| actual prediction:+2.6646| confidence:100.00%\n",
      "pulse:  53| class: 1.0| predicted class: 1.0| actual prediction:+1.4230| confidence:100.00%\n",
      "pulse:  54| class: 1.0| predicted class:-1.0| actual prediction:-0.1771| confidence:17.71%\n",
      "pulse:  55| class: 1.0| predicted class: 1.0| actual prediction:+2.4724| confidence:100.00%\n",
      "pulse:  56| class: 1.0| predicted class: 1.0| actual prediction:+1.0865| confidence:100.00%\n",
      "pulse:  57| class: 1.0| predicted class:-1.0| actual prediction:-2.0454| confidence:100.00%\n",
      "pulse:  58| class: 1.0| predicted class: 1.0| actual prediction:+1.1319| confidence:100.00%\n",
      "pulse:  59| class: 1.0| predicted class: 1.0| actual prediction:+0.0281| confidence:2.81%\n",
      "pulse:  60| class: 1.0| predicted class: 1.0| actual prediction:+1.0214| confidence:100.00%\n",
      "pulse:  61| class: 1.0| predicted class: 1.0| actual prediction:+0.6269| confidence:62.69%\n",
      "pulse:  62| class: 1.0| predicted class: 1.0| actual prediction:+1.4508| confidence:100.00%\n",
      "pulse:  63| class: 1.0| predicted class: 1.0| actual prediction:+0.0825| confidence:8.25%\n",
      "pulse:  64| class: 1.0| predicted class: 1.0| actual prediction:+0.1483| confidence:14.83%\n",
      "pulse:  65| class: 1.0| predicted class: 1.0| actual prediction:+1.4149| confidence:100.00%\n",
      "pulse:  66| class: 1.0| predicted class: 1.0| actual prediction:+0.6569| confidence:65.69%\n",
      "pulse:  67| class: 1.0| predicted class: 1.0| actual prediction:+0.4837| confidence:48.37%\n",
      "pulse:  68| class: 1.0| predicted class: 1.0| actual prediction:+0.2051| confidence:20.51%\n",
      "pulse:  69| class: 1.0| predicted class: 1.0| actual prediction:+0.5250| confidence:52.50%\n",
      "pulse:  70| class: 1.0| predicted class: 1.0| actual prediction:+1.5254| confidence:100.00%\n",
      "pulse:  71| class: 1.0| predicted class: 1.0| actual prediction:+0.4777| confidence:47.77%\n",
      "pulse:  72| class: 1.0| predicted class: 1.0| actual prediction:+0.4937| confidence:49.37%\n",
      "pulse:  73| class: 1.0| predicted class: 1.0| actual prediction:+0.6529| confidence:65.29%\n",
      "pulse:  74| class: 1.0| predicted class: 1.0| actual prediction:+3.9749| confidence:100.00%\n",
      "pulse:  75| class: 1.0| predicted class: 1.0| actual prediction:+0.1386| confidence:13.86%\n",
      "pulse:  76| class: 1.0| predicted class: 1.0| actual prediction:+1.4965| confidence:100.00%\n",
      "pulse:  77| class: 1.0| predicted class: 1.0| actual prediction:+2.6646| confidence:100.00%\n",
      "pulse:  78| class: 1.0| predicted class:-1.0| actual prediction:-0.1771| confidence:17.71%\n",
      "pulse:  79| class: 1.0| predicted class: 1.0| actual prediction:+2.4724| confidence:100.00%\n",
      "pulse:  80| class: 1.0| predicted class: 1.0| actual prediction:+1.0865| confidence:100.00%\n",
      "pulse:  81| class: 1.0| predicted class:-1.0| actual prediction:-2.0454| confidence:100.00%\n",
      "pulse:  82| class: 1.0| predicted class: 1.0| actual prediction:+0.0281| confidence:2.81%\n",
      "pulse:  83| class: 1.0| predicted class: 1.0| actual prediction:+1.4149| confidence:100.00%\n",
      "pulse:  84| class: 1.0| predicted class: 1.0| actual prediction:+0.6569| confidence:65.69%\n",
      "pulse:  85| class: 1.0| predicted class: 1.0| actual prediction:+0.4837| confidence:48.37%\n",
      "pulse:  86| class: 1.0| predicted class: 1.0| actual prediction:+0.2051| confidence:20.51%\n",
      "pulse:  87| class: 1.0| predicted class: 1.0| actual prediction:+0.4777| confidence:47.77%\n",
      "pulse:  88| class: 1.0| predicted class: 1.0| actual prediction:+0.4937| confidence:49.37%\n",
      "pulse:  89| class: 1.0| predicted class: 1.0| actual prediction:+0.6529| confidence:65.29%\n",
      "pulse:  90| class: 1.0| predicted class: 1.0| actual prediction:+1.0520| confidence:100.00%\n",
      "pulse:  91| class: 1.0| predicted class: 1.0| actual prediction:+10.8520| confidence:100.00%\n",
      "pulse:  92| class: 1.0| predicted class: 1.0| actual prediction:+1.7314| confidence:100.00%\n",
      "pulse:  93| class: 1.0| predicted class: 1.0| actual prediction:+0.0669| confidence:6.69%\n",
      "pulse:  94| class: 1.0| predicted class: 1.0| actual prediction:+0.6280| confidence:62.80%\n",
      "pulse:  95| class: 1.0| predicted class: 1.0| actual prediction:+1.7093| confidence:100.00%\n",
      "pulse:  96| class: 1.0| predicted class: 1.0| actual prediction:+1.4110| confidence:100.00%\n",
      "pulse:  97| class: 1.0| predicted class: 1.0| actual prediction:+0.4964| confidence:49.64%\n",
      "pulse:  98| class: 1.0| predicted class: 1.0| actual prediction:+2.2514| confidence:100.00%\n",
      "pulse:  99| class: 1.0| predicted class: 1.0| actual prediction:+2.2739| confidence:100.00%\n",
      "pulse: 100| class: 1.0| predicted class: 1.0| actual prediction:+0.8816| confidence:88.16%\n",
      "\n",
      "Accuracy for 100 pulses: 93.00%\n",
      "End of validation\n",
      "Validation Time: 0.078 secs\n",
      "\n",
      "Total Time Elapsed: 8.754secs\n",
      "\n",
      "--------------END--------------\n",
      "\n"
     ]
    },
    {
     "data": {
      "image/png": "[encoded data removed]",
      "text/plain": [
       "<Figure size 1080x648 with 2 Axes>"
      ]
     },
     "metadata": {
      "needs_background": "light"
     },
     "output_type": "display_data"
    }
   ],
   "source": [
    "t_box = widgets.HBox([w_tnum, w_tbs])\n",
    "v_box = widgets.HBox([w_vnum, w_vbs])\n",
    "\n",
    "display(widgets.VBox([t_box, v_box]))\n",
    "display(widgets.HBox([w_epoch, w_lr, w_c]))\n",
    "\n",
    "button = widgets.Button(\n",
    "    description='Run Experiment',\n",
    ")\n",
    "display(button)\n",
    "@button.on_click\n",
    "def main(*args):\n",
    "    \"\"\" Main function to be executed. \"\"\"\n",
    "\n",
    "    # Data Processing\n",
    "    start_time = time.time()\n",
    "    print(\"Retrieving data...\")\n",
    "    train_loader, validation_loader = get_data()\n",
    "    get_data_time = time.time()\n",
    "\n",
    "    # Printing Experiment Details\n",
    "    print_args()\n",
    "    print(\"Data Loaded Successfully!\\nData Processing Time: {:.3f} secs\\n\".format(get_data_time - start_time))\n",
    "\n",
    "    # Training\n",
    "    model = LinearSVM()\n",
    "    if torch.cuda.is_available():\n",
    "        model.cuda()\n",
    "\n",
    "    print(\"Training...\")\n",
    "    train(model, train_loader)\n",
    "    training_time = time.time()\n",
    "    print(\"End of training\\nTraining Time: {:.3f} secs\\n\".format(training_time - get_data_time))\n",
    "\n",
    "    # Testing\n",
    "    print(\"Validating...\")\n",
    "    confidence_levels = validation(model, validation_loader)\n",
    "    validation_time = time.time()\n",
    "    print(\"End of validation\\nValidation Time: {:.3f} secs\\n\".format(validation_time - training_time))\n",
    "    print(\"Total Time Elapsed: {:.3f}secs\\n\".format(time.time() - start_time))\n",
    "    print(\"{0:-^31}\\n\".format(\"END\"))\n",
    "    \n",
    "    plot(confidence_levels)"
   ]
  }
 ],
 "metadata": {
  "colab": {
   "name": "Test.ipynb",
   "provenance": [],
   "version": "0.3.2"
  },
  "kernelspec": {
   "display_name": "Python 3",
   "language": "python",
   "name": "python3"
  },
  "language_info": {
   "codemirror_mode": {
    "name": "ipython",
    "version": 3
   },
   "file_extension": ".py",
   "mimetype": "text/x-python",
   "name": "python",
   "nbconvert_exporter": "python",
   "pygments_lexer": "ipython3",
   "version": "3.6.4"
  }
 },
 "nbformat": 4,
 "nbformat_minor": 1
}
