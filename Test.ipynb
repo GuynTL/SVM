{
  "nbformat": 4,
  "nbformat_minor": 0,
  "metadata": {
    "colab": {
      "name": "Test.ipynb",
      "version": "0.3.2",
      "provenance": [],
      "include_colab_link": true
    },
    "kernelspec": {
      "name": "python3",
      "display_name": "Python 3"
    }
  },
  "cells": [
    {
      "cell_type": "markdown",
      "metadata": {
        "id": "view-in-github",
        "colab_type": "text"
      },
      "source": [
        "<a href=\"https://colab.research.google.com/github/alex2chan/SVM/blob/master/Test.ipynb\" target=\"_parent\"><img src=\"https://colab.research.google.com/assets/colab-badge.svg\" alt=\"Open In Colab\"/></a>"
      ]
    },
    {
      "metadata": {
        "id": "Q0EcgtxQVjhH",
        "colab_type": "code",
        "colab": {}
      },
      "cell_type": "code",
      "source": [
        "# http://pytorch.org/\n",
        "from os.path import exists\n",
        "from wheel.pep425tags import get_abbr_impl, get_impl_ver, get_abi_tag\n",
        "platform = '{}{}-{}'.format(get_abbr_impl(), get_impl_ver(), get_abi_tag())\n",
        "cuda_output = !ldconfig -p|grep cudart.so|sed -e 's/.*\\.\\([0-9]*\\)\\.\\([0-9]*\\)$/cu\\1\\2/'\n",
        "accelerator = cuda_output[0] if exists('/dev/nvidia0') else 'cpu'\n",
        "\n",
        "!pip install -q http://download.pytorch.org/whl/{accelerator}/torch-0.4.1-{platform}-linux_x86_64.whl torchvision"
      ],
      "execution_count": 0,
      "outputs": []
    },
    {
      "metadata": {
        "id": "Ve7QmFwjXhtx",
        "colab_type": "code",
        "colab": {
          "base_uri": "https://localhost:8080/",
          "height": 119
        },
        "outputId": "f7aa8a7e-cb5b-4992-b13d-7601b319feb3"
      },
      "cell_type": "code",
      "source": [
        "!git clone https://github.com/alex2chan/SVM.git"
      ],
      "execution_count": 35,
      "outputs": [
        {
          "output_type": "stream",
          "text": [
            "Cloning into 'SVM'...\n",
            "remote: Enumerating objects: 46, done.\u001b[K\n",
            "remote: Counting objects: 100% (46/46), done.\u001b[K\n",
            "remote: Compressing objects: 100% (44/44), done.\u001b[K\n",
            "remote: Total 46 (delta 15), reused 0 (delta 0), pack-reused 0\u001b[K\n",
            "Unpacking objects: 100% (46/46), done.\n"
          ],
          "name": "stdout"
        }
      ]
    },
    {
      "metadata": {
        "id": "vKP-iTk6YENz",
        "colab_type": "code",
        "colab": {
          "base_uri": "https://localhost:8080/",
          "height": 2766
        },
        "outputId": "1894a8bd-48b4-4efd-bce5-2ba22d7ea508"
      },
      "cell_type": "code",
      "source": [
        "run SVM/main.py"
      ],
      "execution_count": 68,
      "outputs": [
        {
          "output_type": "stream",
          "text": [
            "Retrieving data...\n",
            "Training Database: ['forML_gamma_SUPERTIGHT.txt', 'forML_neutron_SUPERTIGHT.txt']\n",
            "Validation Database: ['forML_gamma_LOOSE.txt', 'forML_gamma_TIGHT.txt', 'forML_neutron_LOOSE.txt', 'forML_neutron_TIGHT.txt']\n",
            "Training Dataset Size: 500\n",
            "Training Batch Size: 10\n",
            "Validation Dataset Size: 100\n",
            "Validation Batch Size: 1\n",
            "No. of Epochs: 10\n",
            "Learning Rate: 0.01\n",
            "Regularization: 0.01\n",
            "Data Loaded Successfully!\n",
            "Data Processing Time: 5.198 secs\n",
            "\n",
            "Training...\n",
            "CNN Model: LinearSVM\n",
            "Optimizer: SGD\n",
            "Epoch [1/10], Loss: 0.0940881530046463\n",
            "Epoch [2/10], Loss: 0.07487177085876465\n",
            "Epoch [3/10], Loss: 0.06089801618456841\n",
            "Epoch [4/10], Loss: 0.06122390559315682\n",
            "Epoch [5/10], Loss: 0.05090549477934837\n",
            "Epoch [6/10], Loss: 0.04437604136765003\n",
            "Epoch [7/10], Loss: 0.044487399756908415\n",
            "Epoch [8/10], Loss: 0.041352607518434524\n",
            "Epoch [9/10], Loss: 0.03990321445837617\n",
            "Epoch [10/10], Loss: 0.03422361351549626\n",
            "End of training\n",
            "Training Time: 0.337 secs\n",
            "\n",
            "Validating...\n",
            "pulse:   1| class:-1.0| predicted class:-1.0| actual prediction:-1.5952| confidence:100.00%\n",
            "pulse:   2| class:-1.0| predicted class:-1.0| actual prediction:-1.2685| confidence:100.00%\n",
            "pulse:   3| class:-1.0| predicted class: 1.0| actual prediction:+0.5945| confidence:59.45%\n",
            "pulse:   4| class:-1.0| predicted class:-1.0| actual prediction:-2.0212| confidence:100.00%\n",
            "pulse:   5| class:-1.0| predicted class:-1.0| actual prediction:-1.4300| confidence:100.00%\n",
            "pulse:   6| class:-1.0| predicted class:-1.0| actual prediction:-1.5271| confidence:100.00%\n",
            "pulse:   7| class:-1.0| predicted class:-1.0| actual prediction:-1.7547| confidence:100.00%\n",
            "pulse:   8| class:-1.0| predicted class:-1.0| actual prediction:-1.9698| confidence:100.00%\n",
            "pulse:   9| class:-1.0| predicted class:-1.0| actual prediction:-0.7354| confidence:73.54%\n",
            "pulse:  10| class:-1.0| predicted class:-1.0| actual prediction:-0.1785| confidence:17.85%\n",
            "pulse:  11| class:-1.0| predicted class:-1.0| actual prediction:-1.3814| confidence:100.00%\n",
            "pulse:  12| class:-1.0| predicted class:-1.0| actual prediction:-1.8402| confidence:100.00%\n",
            "pulse:  13| class:-1.0| predicted class:-1.0| actual prediction:-1.7222| confidence:100.00%\n",
            "pulse:  14| class:-1.0| predicted class:-1.0| actual prediction:-0.7729| confidence:77.29%\n",
            "pulse:  15| class:-1.0| predicted class:-1.0| actual prediction:-0.9399| confidence:93.99%\n",
            "pulse:  16| class:-1.0| predicted class:-1.0| actual prediction:-1.7243| confidence:100.00%\n",
            "pulse:  17| class:-1.0| predicted class:-1.0| actual prediction:-1.6911| confidence:100.00%\n",
            "pulse:  18| class:-1.0| predicted class:-1.0| actual prediction:-1.8070| confidence:100.00%\n",
            "pulse:  19| class:-1.0| predicted class:-1.0| actual prediction:-1.4911| confidence:100.00%\n",
            "pulse:  20| class:-1.0| predicted class:-1.0| actual prediction:-0.8001| confidence:80.01%\n",
            "pulse:  21| class:-1.0| predicted class:-1.0| actual prediction:-1.7095| confidence:100.00%\n",
            "pulse:  22| class:-1.0| predicted class:-1.0| actual prediction:-0.8475| confidence:84.75%\n",
            "pulse:  23| class:-1.0| predicted class:-1.0| actual prediction:-0.8642| confidence:86.42%\n",
            "pulse:  24| class:-1.0| predicted class:-1.0| actual prediction:-1.3977| confidence:100.00%\n",
            "pulse:  25| class:-1.0| predicted class:-1.0| actual prediction:-1.2905| confidence:100.00%\n",
            "pulse:  26| class:-1.0| predicted class:-1.0| actual prediction:-1.5952| confidence:100.00%\n",
            "pulse:  27| class:-1.0| predicted class:-1.0| actual prediction:-2.0212| confidence:100.00%\n",
            "pulse:  28| class:-1.0| predicted class:-1.0| actual prediction:-1.5271| confidence:100.00%\n",
            "pulse:  29| class:-1.0| predicted class:-1.0| actual prediction:-1.7547| confidence:100.00%\n",
            "pulse:  30| class:-1.0| predicted class:-1.0| actual prediction:-1.9698| confidence:100.00%\n",
            "pulse:  31| class:-1.0| predicted class:-1.0| actual prediction:-0.7354| confidence:73.54%\n",
            "pulse:  32| class:-1.0| predicted class:-1.0| actual prediction:-0.1785| confidence:17.85%\n",
            "pulse:  33| class:-1.0| predicted class:-1.0| actual prediction:-1.3814| confidence:100.00%\n",
            "pulse:  34| class:-1.0| predicted class:-1.0| actual prediction:-1.8402| confidence:100.00%\n",
            "pulse:  35| class:-1.0| predicted class:-1.0| actual prediction:-1.7222| confidence:100.00%\n",
            "pulse:  36| class:-1.0| predicted class:-1.0| actual prediction:-0.7729| confidence:77.29%\n",
            "pulse:  37| class:-1.0| predicted class:-1.0| actual prediction:-0.9399| confidence:93.99%\n",
            "pulse:  38| class:-1.0| predicted class:-1.0| actual prediction:-1.7243| confidence:100.00%\n",
            "pulse:  39| class:-1.0| predicted class:-1.0| actual prediction:-1.6911| confidence:100.00%\n",
            "pulse:  40| class:-1.0| predicted class:-1.0| actual prediction:-1.8070| confidence:100.00%\n",
            "pulse:  41| class:-1.0| predicted class:-1.0| actual prediction:-0.8001| confidence:80.01%\n",
            "pulse:  42| class:-1.0| predicted class:-1.0| actual prediction:-1.7095| confidence:100.00%\n",
            "pulse:  43| class:-1.0| predicted class:-1.0| actual prediction:-0.8642| confidence:86.42%\n",
            "pulse:  44| class:-1.0| predicted class:-1.0| actual prediction:-1.3977| confidence:100.00%\n",
            "pulse:  45| class:-1.0| predicted class:-1.0| actual prediction:-1.4409| confidence:100.00%\n",
            "pulse:  46| class:-1.0| predicted class:-1.0| actual prediction:-1.4381| confidence:100.00%\n",
            "pulse:  47| class:-1.0| predicted class:-1.0| actual prediction:-0.8283| confidence:82.83%\n",
            "pulse:  48| class:-1.0| predicted class:-1.0| actual prediction:-2.6502| confidence:100.00%\n",
            "pulse:  49| class:-1.0| predicted class:-1.0| actual prediction:-1.0578| confidence:100.00%\n",
            "pulse:  50| class:-1.0| predicted class:-1.0| actual prediction:-2.1737| confidence:100.00%\n",
            "pulse:  51| class: 1.0| predicted class: 1.0| actual prediction:+0.7151| confidence:71.51%\n",
            "pulse:  52| class: 1.0| predicted class: 1.0| actual prediction:+2.0894| confidence:100.00%\n",
            "pulse:  53| class: 1.0| predicted class: 1.0| actual prediction:+1.1452| confidence:100.00%\n",
            "pulse:  54| class: 1.0| predicted class:-1.0| actual prediction:-0.5929| confidence:59.29%\n",
            "pulse:  55| class: 1.0| predicted class: 1.0| actual prediction:+2.0430| confidence:100.00%\n",
            "pulse:  56| class: 1.0| predicted class: 1.0| actual prediction:+0.2541| confidence:25.41%\n",
            "pulse:  57| class: 1.0| predicted class:-1.0| actual prediction:-2.7424| confidence:100.00%\n",
            "pulse:  58| class: 1.0| predicted class: 1.0| actual prediction:+0.8266| confidence:82.66%\n",
            "pulse:  59| class: 1.0| predicted class:-1.0| actual prediction:-0.2819| confidence:28.19%\n",
            "pulse:  60| class: 1.0| predicted class: 1.0| actual prediction:+0.6248| confidence:62.48%\n",
            "pulse:  61| class: 1.0| predicted class: 1.0| actual prediction:+0.1737| confidence:17.37%\n",
            "pulse:  62| class: 1.0| predicted class: 1.0| actual prediction:+0.8036| confidence:80.36%\n",
            "pulse:  63| class: 1.0| predicted class:-1.0| actual prediction:-0.2298| confidence:22.98%\n",
            "pulse:  64| class: 1.0| predicted class:-1.0| actual prediction:-0.1397| confidence:13.97%\n",
            "pulse:  65| class: 1.0| predicted class: 1.0| actual prediction:+0.7832| confidence:78.32%\n",
            "pulse:  66| class: 1.0| predicted class: 1.0| actual prediction:+0.3070| confidence:30.70%\n",
            "pulse:  67| class: 1.0| predicted class:-1.0| actual prediction:-0.1655| confidence:16.55%\n",
            "pulse:  68| class: 1.0| predicted class:-1.0| actual prediction:-0.3211| confidence:32.11%\n",
            "pulse:  69| class: 1.0| predicted class:-1.0| actual prediction:-0.1857| confidence:18.57%\n",
            "pulse:  70| class: 1.0| predicted class: 1.0| actual prediction:+1.3772| confidence:100.00%\n",
            "pulse:  71| class: 1.0| predicted class: 1.0| actual prediction:+0.2276| confidence:22.76%\n",
            "pulse:  72| class: 1.0| predicted class: 1.0| actual prediction:+0.2047| confidence:20.47%\n",
            "pulse:  73| class: 1.0| predicted class: 1.0| actual prediction:+0.2911| confidence:29.11%\n",
            "pulse:  74| class: 1.0| predicted class: 1.0| actual prediction:+3.5650| confidence:100.00%\n",
            "pulse:  75| class: 1.0| predicted class:-1.0| actual prediction:-0.3887| confidence:38.87%\n",
            "pulse:  76| class: 1.0| predicted class: 1.0| actual prediction:+0.7151| confidence:71.51%\n",
            "pulse:  77| class: 1.0| predicted class: 1.0| actual prediction:+2.0894| confidence:100.00%\n",
            "pulse:  78| class: 1.0| predicted class:-1.0| actual prediction:-0.5929| confidence:59.29%\n",
            "pulse:  79| class: 1.0| predicted class: 1.0| actual prediction:+2.0430| confidence:100.00%\n",
            "pulse:  80| class: 1.0| predicted class: 1.0| actual prediction:+0.2541| confidence:25.41%\n",
            "pulse:  81| class: 1.0| predicted class:-1.0| actual prediction:-2.7424| confidence:100.00%\n",
            "pulse:  82| class: 1.0| predicted class:-1.0| actual prediction:-0.2819| confidence:28.19%\n",
            "pulse:  83| class: 1.0| predicted class: 1.0| actual prediction:+0.7832| confidence:78.32%\n",
            "pulse:  84| class: 1.0| predicted class: 1.0| actual prediction:+0.3070| confidence:30.70%\n",
            "pulse:  85| class: 1.0| predicted class:-1.0| actual prediction:-0.1655| confidence:16.55%\n",
            "pulse:  86| class: 1.0| predicted class:-1.0| actual prediction:-0.3211| confidence:32.11%\n",
            "pulse:  87| class: 1.0| predicted class: 1.0| actual prediction:+0.2276| confidence:22.76%\n",
            "pulse:  88| class: 1.0| predicted class: 1.0| actual prediction:+0.2047| confidence:20.47%\n",
            "pulse:  89| class: 1.0| predicted class: 1.0| actual prediction:+0.2911| confidence:29.11%\n",
            "pulse:  90| class: 1.0| predicted class: 1.0| actual prediction:+0.3674| confidence:36.74%\n",
            "pulse:  91| class: 1.0| predicted class: 1.0| actual prediction:+10.8808| confidence:100.00%\n",
            "pulse:  92| class: 1.0| predicted class: 1.0| actual prediction:+1.0972| confidence:100.00%\n",
            "pulse:  93| class: 1.0| predicted class:-1.0| actual prediction:-0.3587| confidence:35.87%\n",
            "pulse:  94| class: 1.0| predicted class: 1.0| actual prediction:+0.1622| confidence:16.22%\n",
            "pulse:  95| class: 1.0| predicted class: 1.0| actual prediction:+1.0919| confidence:100.00%\n",
            "pulse:  96| class: 1.0| predicted class: 1.0| actual prediction:+1.0518| confidence:100.00%\n",
            "pulse:  97| class: 1.0| predicted class:-1.0| actual prediction:-0.4097| confidence:40.97%\n",
            "pulse:  98| class: 1.0| predicted class: 1.0| actual prediction:+1.6671| confidence:100.00%\n",
            "pulse:  99| class: 1.0| predicted class: 1.0| actual prediction:+1.9681| confidence:100.00%\n",
            "pulse: 100| class: 1.0| predicted class: 1.0| actual prediction:+0.4936| confidence:49.36%\n",
            "\n",
            "Accuracy for 100 pulses: 83.00%\n",
            "End of validation\n",
            "Validation Time: 0.041 secs\n",
            "\n",
            "Total Time Elapsed: 5.577secs\n",
            "\n",
            "--------------END--------------\n",
            "\n"
          ],
          "name": "stdout"
        },
        {
          "output_type": "display_data",
          "data": {
            "image/png": "[encoded data removed]",
            "text/plain": [
              "<matplotlib.figure.Figure at 0x7f4e49a531d0>"
            ]
          },
          "metadata": {
            "tags": []
          }
        }
      ]
    },
    {
      "metadata": {
        "colab_type": "code",
        "id": "zU5b6dlRwUQk",
        "colab": {}
      },
      "cell_type": "code",
      "source": [
        "import requests, zipfile, io\n",
        "\n",
        "\n",
        "r = requests.get('https://www.dropbox.com/sh/sklqbrd7gvq6azz/AABCExrGTyESctHbs1eQO4m6a?dl=1', stream=True)\n",
        "if r.status_code == requests.codes.ok:\n",
        "  z = zipfile.ZipFile(io.BytesIO(r.content))\n",
        "data_fname = z.namelist()\n",
        "\n",
        "for fname in data_fname[1:]:\n",
        "  print(fname)\n"
      ],
      "execution_count": 0,
      "outputs": []
    },
    {
      "metadata": {
        "id": "9alnyoM3iNFq",
        "colab_type": "code",
        "colab": {}
      },
      "cell_type": "code",
      "source": [
        "ls"
      ],
      "execution_count": 0,
      "outputs": []
    }
  ]
}